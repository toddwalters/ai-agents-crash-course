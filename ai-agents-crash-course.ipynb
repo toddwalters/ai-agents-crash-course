{
 "cells": [
  {
   "cell_type": "markdown",
   "id": "971de429",
   "metadata": {},
   "source": [
    "# Project Setup\n",
    "\n",
    "This notebook will guide you through setting up the project environment for using CrewAI. We will:\n",
    "\n",
    "1. Install the required Python modules.\n",
    "2. Set up a virtual environment.\n",
    "3. Verify the installation."
   ]
  },
  {
   "cell_type": "code",
   "execution_count": null,
   "id": "c61fcc47",
   "metadata": {},
   "outputs": [],
   "source": [
    "# Step 1: Create and activate a virtual environment\n",
    "!python3 -m venv venv\n",
    "!source venv/bin/activate\n",
    "\n",
    "# Step 2: Install required Python modules\n",
    "!pip install -r requirements.txt\n",
    "\n",
    "# Step 3: Verify installation\n",
    "!pip list"
   ]
  },
  {
   "cell_type": "markdown",
   "id": "29096e08",
   "metadata": {},
   "source": [
    "# Setting Up OpenAI API Key\n",
    "\n",
    "To use CrewAI with the OpenAI API, you need to set your OpenAI API Key as an environment variable. This key is required for CrewAI to interact with OpenAI's services. Replace `your_openai_api_key` with your actual API key in the code block below."
   ]
  },
  {
   "cell_type": "code",
   "execution_count": null,
   "id": "1c357710",
   "metadata": {},
   "outputs": [
    {
     "name": "stdout",
     "output_type": "stream",
     "text": [
      "Agent created successfully with OpenAI API Key.\n"
     ]
    }
   ],
   "source": [
    "# Step 4: Set OpenAI API Key from .env file\n",
    "import os\n",
    "from dotenv import load_dotenv\n",
    "from crewai import LLM, Agent\n",
    "\n",
    "# Load environment variables from .env file\n",
    "load_dotenv()\n",
    "\n",
    "# Retrieve the OpenAI API Key\n",
    "# api_key = os.getenv('OPENAI_API_KEY')\n",
    "# if not api_key:\n",
    "#     raise ValueError(\"OPENAI_API_KEY is not set in the .env file\")\n",
    "\n",
    "# Step 5: Test CrewAI with OpenAI API Key\n",
    "llm = LLM(\n",
    "    model=\"ollama/llama3.2:1b\",\n",
    "    base_url=\"http://localhost:11434\"\n",
    ")\n",
    "\n",
    "# Create a simple agent to test the API Key\n",
    "senior_technical_writer = Agent(\n",
    "\n",
    "    role=\"Senior Technical Writer\",\n",
    "    \n",
    "    goal=\"\"\"Craft clear, engaging, and well-structured\n",
    "            technical content based on research findings\"\"\",\n",
    "    \n",
    "    backstory=\"\"\"You are an experienced technical writer\n",
    "                with expertise in simplifying complex\n",
    "                concepts, structuring content for readability,\n",
    "                and ensuring accuracy in documentation.\"\"\",\n",
    "                \n",
    "    llm=llm,\n",
    "                \n",
    "    verbose=True\n",
    ")"
   ]
  }
 ],
 "metadata": {
  "kernelspec": {
   "display_name": "venv (3.11.8)",
   "language": "python",
   "name": "python3"
  },
  "language_info": {
   "codemirror_mode": {
    "name": "ipython",
    "version": 3
   },
   "file_extension": ".py",
   "mimetype": "text/x-python",
   "name": "python",
   "nbconvert_exporter": "python",
   "pygments_lexer": "ipython3",
   "version": "3.11.8"
  }
 },
 "nbformat": 4,
 "nbformat_minor": 5
}
