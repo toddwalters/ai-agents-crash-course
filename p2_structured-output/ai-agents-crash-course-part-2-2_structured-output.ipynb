{
 "cells": [
  {
   "cell_type": "markdown",
   "id": "7d3890e2",
   "metadata": {},
   "source": [
    "# AI Agents Crash Course - Part 2 - Structured Output"
   ]
  },
  {
   "cell_type": "markdown",
   "id": "3adab617",
   "metadata": {},
   "source": [
    "## Table of Contents\n",
    "\n",
    "1. [Project Setup](#project-setup)\n",
    "   - [Load Required Python Modules and Libraries](#load-required-python-modules-and-libraries)\n",
    "   - [Enable litellm debug logging](#optional-enable-litellm-debug-logging)\n",
    "   - [Load Environment Variables and Configure LLM](#load-environment-variables-and-configure-llm)\n",
    "   - [Configure LLM](#configure-llm)\n",
    "\n",
    "2. [Verify LLM Configuration](#verify-llm-configuration)\n",
    "   - [Universal LLM Connection Test](#universal-llm-connection-test)\n",
    "   - [Environment Variables Check for All LLM Providers](#environment-variables-check-for-all-llm-providers)\n",
    "\n",
    "3. [Structured Output Implementation](#structured-output-implementation)\n",
    "   - [Define A Structured Schema For Entity-Relation-Entity Triplets](#define-a-structured-schema-for-entity-relation-entity-triplets)\n",
    "   - [Create Agent Responsible For Extracting Structured Triplets From Text](#create-agent-responsible-for-extracting-structured-triplets-from-text)\n",
    "   - [Create Task That Instructs The Agent To Extract Entity-Relation-Entity Triplets From Text](#create-task-that-instructs-the-agent-to-extract-entity-relation-entity-triplets-from-text)\n",
    "   - [Why Use output_pydantic for Structured Output?](#-why-use-output_pydantic-for-structured-output)\n",
    "   - [Create Crew To Extract Entity-Relation-Entity Triplets From Text](#create-crew-to-extract-entity-relation-entity-triplets-from-text)\n",
    "\n",
    "---\n",
    "\n",
    "This notebook demonstrates how to use **CrewAI with Pydantic structured output** to extract entity-relation-entity triplets from text in a reliable, type-safe manner.\n",
    "\n",
    "**Key Features:**\n",
    "- ✅ Pydantic schema validation for structured AI output\n",
    "- ✅ Entity-relation-entity triplet extraction\n",
    "- ✅ Support for both OpenAI and Ollama LLMs\n",
    "- ✅ Comprehensive error handling and debugging\n",
    "- ✅ Type-safe JSON output validation\n",
    "\n",
    "---\n",
    "\n",
    "REFERENCE:  https://www.dailydoseofds.com/ai-agents-crash-course-part-2-with-implementation/\n",
    "\n",
    "---"
   ]
  },
  {
   "cell_type": "markdown",
   "id": "411381fe",
   "metadata": {},
   "source": [
    "## Project Setup\n",
    "\n",
    "This notebook will guide you through setting up the project environment for using CrewAI. We will:\n",
    "\n",
    "1. Install the required Python modules.\n",
    "2. Set up a virtual environment.\n",
    "3. Verify the installation."
   ]
  },
  {
   "cell_type": "code",
   "execution_count": 13,
   "id": "ddd38de7",
   "metadata": {},
   "outputs": [],
   "source": [
    "# Uncomment if you are not using devcontainers and want to set up a local environment\n",
    "# \n",
    "# # Step 1: Create and activate a virtual environment\n",
    "# #\n",
    "# %python3 -m venv venv\n",
    "# %source venv/bin/activate\n",
    "# \n",
    "# # Step 2: Install required Python modules\n",
    "# #\n",
    "# %pip install -r requirements.txt\n",
    "# \n",
    "# # Step 3: Verify installation\n",
    "# #\n",
    "# %pip list"
   ]
  },
  {
   "cell_type": "markdown",
   "id": "d8cc1c63",
   "metadata": {},
   "source": [
    "## Load Required Python Modules and Libraries"
   ]
  },
  {
   "cell_type": "code",
   "execution_count": 14,
   "id": "d3773848",
   "metadata": {},
   "outputs": [],
   "source": [
    "import os\n",
    "from dotenv import load_dotenv\n",
    "from IPython.display import Markdown\n",
    "from crewai import LLM, Agent, Task, Crew"
   ]
  },
  {
   "cell_type": "markdown",
   "id": "7227f889",
   "metadata": {},
   "source": [
    "## [Optional] Enable litellm debug logging"
   ]
  },
  {
   "cell_type": "code",
   "execution_count": 15,
   "id": "91476bcb",
   "metadata": {},
   "outputs": [],
   "source": [
    "# Uncomment in order to enable litellm debugging for better error diagnostics\n",
    "# NOTE: You will have to restart the jupyter kernel to disable debug logging once it has been enabled.\n",
    "#\n",
    "# import litellm\n",
    "# litellm._turn_on_debug()"
   ]
  },
  {
   "cell_type": "markdown",
   "id": "14be36ad",
   "metadata": {},
   "source": [
    "## Load Environment Variables and Configure LLM\n",
    "\n",
    "This block loads environment variables from the `.env` file, including the OpenAI API Key, which is required to authenticate with OpenAI's services. It then configures the `LLM` object to use OpenAI's GPT-4 model. Alternatively, you can uncomment the provided code to configure the `LLM` object to use Ollama with a local model, provided Ollama is installed and running."
   ]
  },
  {
   "cell_type": "code",
   "execution_count": 16,
   "id": "19f650db",
   "metadata": {},
   "outputs": [],
   "source": [
    "# Load environment variables from .env file\n",
    "# Note: In devcontainer, variables are already loaded by dotenv feature,\n",
    "# but load_dotenv() is safe and won't override existing environment variables\n",
    "load_dotenv()\n",
    "\n",
    "# Uncomment the code block below to use OpenAI with your API Key\n",
    "# \n",
    "# api_key = os.getenv('OPENAI_API_KEY')\n",
    "# if not api_key:\n",
    "#     raise ValueError(\"OPENAI_API_KEY is not set in the .env file\")\n",
    "\n",
    "# Uncomment the code block below to use ollama\n",
    "# \n",
    "OLLAMA_API_BASE = os.getenv('OLLAMA_API_BASE')\n",
    "if not OLLAMA_API_BASE:\n",
    "    raise ValueError(\"OLLAMA_API_BASE is not set in the .env file\")"
   ]
  },
  {
   "cell_type": "markdown",
   "id": "8d72d53b",
   "metadata": {},
   "source": [
    "## Configure LLM\n",
    "\n",
    "Configures the `LLM` object to use OpenAI's GPT-4 model. \n",
    "\n",
    "Alternatively, you can uncomment the provided code to configure the `LLM` object to use Ollama with a local model, provided Ollama is installed and running."
   ]
  },
  {
   "cell_type": "code",
   "execution_count": 17,
   "id": "8d1df9bc",
   "metadata": {},
   "outputs": [],
   "source": [
    "# llm = LLM(\n",
    "#     model=\"gpt-4o\",  # Specify the OpenAI model you want to use\n",
    "#     api_key=api_key\n",
    "# )\n",
    "\n",
    "# Uncomment the code block below to use Ollama with your local model\n",
    "# Make sure to have Ollama installed and running\n",
    "# \n",
    "llm = LLM(\n",
    "    # model=\"ollama/llama3:latest\",\n",
    "    # model=\"ollama/llama3.2:1b\",\n",
    "    # model=\"ollama/deepseek-r1:latest\",\n",
    "    # model=\"ollama/gemma3:latest\",\n",
    "    model=\"ollama/gemma3n:latest\",\n",
    "    base_url=OLLAMA_API_BASE\n",
    ")"
   ]
  },
  {
   "cell_type": "markdown",
   "id": "eb6a242a",
   "metadata": {},
   "source": [
    "## Verify LLM Configuration"
   ]
  },
  {
   "cell_type": "markdown",
   "id": "a76cfd69",
   "metadata": {},
   "source": [
    "### Universal LLM Connection Test"
   ]
  },
  {
   "cell_type": "code",
   "execution_count": 18,
   "id": "c15858ed",
   "metadata": {},
   "outputs": [
    {
     "data": {
      "text/html": [
       "<pre style=\"white-space:pre;overflow-x:auto;line-height:normal;font-family:Menlo,'DejaVu Sans Mono',consolas,'Courier New',monospace\">\n",
       "</pre>\n"
      ],
      "text/plain": [
       "\n"
      ]
     },
     "metadata": {},
     "output_type": "display_data"
    },
    {
     "data": {
      "text/html": [
       "<pre style=\"white-space:pre;overflow-x:auto;line-height:normal;font-family:Menlo,'DejaVu Sans Mono',consolas,'Courier New',monospace\"><span style=\"color: #800000; text-decoration-color: #800000; font-weight: bold\">Give Feedback / Get Help: https://github.com/BerriAI/litellm/issues/new</span>\n",
       "</pre>\n"
      ],
      "text/plain": [
       "\u001b[1;31mGive Feedback / Get Help: https://github.com/BerriAI/litellm/issues/new\u001b[0m\n"
      ]
     },
     "metadata": {},
     "output_type": "display_data"
    },
    {
     "data": {
      "text/html": [
       "<pre style=\"white-space:pre;overflow-x:auto;line-height:normal;font-family:Menlo,'DejaVu Sans Mono',consolas,'Courier New',monospace\">LiteLLM.Info: If you need to debug this error, use `litellm._turn_on_debug()'.\n",
       "</pre>\n"
      ],
      "text/plain": [
       "LiteLLM.Info: If you need to debug this error, use `litellm._turn_on_debug()'.\n"
      ]
     },
     "metadata": {},
     "output_type": "display_data"
    },
    {
     "data": {
      "text/html": [
       "<pre style=\"white-space:pre;overflow-x:auto;line-height:normal;font-family:Menlo,'DejaVu Sans Mono',consolas,'Courier New',monospace\">\n",
       "</pre>\n"
      ],
      "text/plain": [
       "\n"
      ]
     },
     "metadata": {},
     "output_type": "display_data"
    },
    {
     "data": {
      "text/html": [
       "<pre style=\"white-space:pre;overflow-x:auto;line-height:normal;font-family:Menlo,'DejaVu Sans Mono',consolas,'Courier New',monospace\">\n",
       "</pre>\n"
      ],
      "text/plain": [
       "\n"
      ]
     },
     "metadata": {},
     "output_type": "display_data"
    },
    {
     "data": {
      "text/html": [
       "<pre style=\"white-space:pre;overflow-x:auto;line-height:normal;font-family:Menlo,'DejaVu Sans Mono',consolas,'Courier New',monospace\"><span style=\"color: #800000; text-decoration-color: #800000; font-weight: bold\">Provider List: https://docs.litellm.ai/docs/providers</span>\n",
       "</pre>\n"
      ],
      "text/plain": [
       "\u001b[1;31mProvider List: https://docs.litellm.ai/docs/providers\u001b[0m\n"
      ]
     },
     "metadata": {},
     "output_type": "display_data"
    },
    {
     "data": {
      "text/html": [
       "<pre style=\"white-space:pre;overflow-x:auto;line-height:normal;font-family:Menlo,'DejaVu Sans Mono',consolas,'Courier New',monospace\">\n",
       "</pre>\n"
      ],
      "text/plain": [
       "\n"
      ]
     },
     "metadata": {},
     "output_type": "display_data"
    },
    {
     "name": "stdout",
     "output_type": "stream",
     "text": [
      "=== LLM Configuration Analysis ===\n",
      "Model: ollama/gemma3n:latest\n",
      "Base URL: http://host.docker.internal:11434\n",
      "API Key Set: No\n",
      "Detected Provider: ollama\n",
      "\n",
      "=== Ollama Connection Test ===\n",
      "❌ Ollama server connection failed: HTTPConnectionPool(host='host.docker.internal', port=11434): Max retries exceeded with url: /api/tags (Caused by NewConnectionError('<urllib3.connection.HTTPConnection object at 0xffff980c7390>: Failed to establish a new connection: [Errno 111] Connection refused'))\n",
      "\n",
      "=== LLM Functionality Test ===\n"
     ]
    },
    {
     "data": {
      "text/html": [
       "<pre style=\"white-space:pre;overflow-x:auto;line-height:normal;font-family:Menlo,'DejaVu Sans Mono',consolas,'Courier New',monospace\"></pre>\n"
      ],
      "text/plain": []
     },
     "metadata": {},
     "output_type": "display_data"
    },
    {
     "data": {
      "text/html": [
       "<pre style=\"white-space:pre;overflow-x:auto;line-height:normal;font-family:Menlo,'DejaVu Sans Mono',consolas,'Courier New',monospace\"><span style=\"color: #800000; text-decoration-color: #800000\">╭─────────────────────────────────────────────────── LLM Error ───────────────────────────────────────────────────╮</span>\n",
       "<span style=\"color: #800000; text-decoration-color: #800000\">│</span>                                                                                                                 <span style=\"color: #800000; text-decoration-color: #800000\">│</span>\n",
       "<span style=\"color: #800000; text-decoration-color: #800000\">│</span>  <span style=\"color: #800000; text-decoration-color: #800000; font-weight: bold\">❌ LLM Call Failed</span>                                                                                             <span style=\"color: #800000; text-decoration-color: #800000\">│</span>\n",
       "<span style=\"color: #800000; text-decoration-color: #800000\">│</span>  <span style=\"color: #c0c0c0; text-decoration-color: #c0c0c0\">Error: </span><span style=\"color: #800000; text-decoration-color: #800000\">litellm.APIConnectionError: OllamaException - [Errno 111] Connection refused</span>                            <span style=\"color: #800000; text-decoration-color: #800000\">│</span>\n",
       "<span style=\"color: #800000; text-decoration-color: #800000\">│</span>                                                                                                                 <span style=\"color: #800000; text-decoration-color: #800000\">│</span>\n",
       "<span style=\"color: #800000; text-decoration-color: #800000\">╰─────────────────────────────────────────────────────────────────────────────────────────────────────────────────╯</span>\n",
       "</pre>\n"
      ],
      "text/plain": [
       "\u001b[31m╭─\u001b[0m\u001b[31m──────────────────────────────────────────────────\u001b[0m\u001b[31m LLM Error \u001b[0m\u001b[31m──────────────────────────────────────────────────\u001b[0m\u001b[31m─╮\u001b[0m\n",
       "\u001b[31m│\u001b[0m                                                                                                                 \u001b[31m│\u001b[0m\n",
       "\u001b[31m│\u001b[0m  \u001b[1;31m❌ LLM Call Failed\u001b[0m                                                                                             \u001b[31m│\u001b[0m\n",
       "\u001b[31m│\u001b[0m  \u001b[37mError: \u001b[0m\u001b[31mlitellm.APIConnectionError: OllamaException - [Errno 111] Connection refused\u001b[0m                            \u001b[31m│\u001b[0m\n",
       "\u001b[31m│\u001b[0m                                                                                                                 \u001b[31m│\u001b[0m\n",
       "\u001b[31m╰─────────────────────────────────────────────────────────────────────────────────────────────────────────────────╯\u001b[0m\n"
      ]
     },
     "metadata": {},
     "output_type": "display_data"
    },
    {
     "data": {
      "text/html": [
       "<pre style=\"white-space:pre;overflow-x:auto;line-height:normal;font-family:Menlo,'DejaVu Sans Mono',consolas,'Courier New',monospace\">\n",
       "</pre>\n"
      ],
      "text/plain": [
       "\n"
      ]
     },
     "metadata": {},
     "output_type": "display_data"
    },
    {
     "name": "stdout",
     "output_type": "stream",
     "text": [
      "\n",
      "Error type: APIConnectionError\n",
      "💡 Tip: Check network connection and base_url configuration\n"
     ]
    }
   ],
   "source": [
    "import requests\n",
    "import os\n",
    "\n",
    "def test_llm_connection():\n",
    "    \"\"\"Test LLM connection regardless of provider\"\"\"\n",
    "    \n",
    "    print(\"=== LLM Configuration Analysis ===\")\n",
    "    \n",
    "    # Analyze LLM configuration\n",
    "    model_name = getattr(llm, 'model', 'Unknown')\n",
    "    base_url = getattr(llm, 'base_url', None)\n",
    "    api_key_set = bool(getattr(llm, 'api_key', None))\n",
    "    \n",
    "    print(f\"Model: {model_name}\")\n",
    "    print(f\"Base URL: {base_url if base_url else 'Default (provider-specific)'}\")\n",
    "    print(f\"API Key Set: {'Yes' if api_key_set else 'No'}\")\n",
    "    \n",
    "    # Determine provider type\n",
    "    provider = \"unknown\"\n",
    "    if \"ollama\" in model_name.lower():\n",
    "        provider = \"ollama\"\n",
    "    elif \"gpt\" in model_name.lower() or \"openai\" in model_name.lower():\n",
    "        provider = \"openai\"\n",
    "    elif \"claude\" in model_name.lower() or \"anthropic\" in model_name.lower():\n",
    "        provider = \"anthropic\"\n",
    "    elif \"gemini\" in model_name.lower() or \"google\" in model_name.lower():\n",
    "        provider = \"google\"\n",
    "    \n",
    "    print(f\"Detected Provider: {provider}\")\n",
    "    \n",
    "    # Provider-specific connection tests\n",
    "    print(f\"\\n=== {provider.title()} Connection Test ===\")\n",
    "    \n",
    "    if provider == \"ollama\" and base_url:\n",
    "        try:\n",
    "            # Test Ollama server availability\n",
    "            test_url = f\"{base_url}/api/tags\"\n",
    "            response = requests.get(test_url, timeout=5)\n",
    "            print(f\"Ollama Server Status: {response.status_code}\")\n",
    "            if response.status_code == 200:\n",
    "                models = response.json().get('models', [])\n",
    "                print(f\"Available Models: {len(models)} found\")\n",
    "                # Check if our specific model is available\n",
    "                model_available = any(model_name.replace('ollama/', '') in str(model) for model in models)\n",
    "                print(f\"Target Model Available: {'Yes' if model_available else 'No'}\")\n",
    "            else:\n",
    "                print(f\"Ollama server responded with status: {response.status_code}\")\n",
    "        except Exception as e:\n",
    "            print(f\"❌ Ollama server connection failed: {e}\")\n",
    "    \n",
    "    elif provider == \"openai\":\n",
    "        print(\"OpenAI connection test (API key validation happens during LLM call)\")\n",
    "        api_key_env = os.getenv('OPENAI_API_KEY')\n",
    "        print(f\"OPENAI_API_KEY environment variable: {'Set' if api_key_env else 'Not set'}\")\n",
    "    \n",
    "    elif provider == \"anthropic\":\n",
    "        print(\"Anthropic connection test\")\n",
    "        api_key_env = os.getenv('ANTHROPIC_API_KEY')\n",
    "        print(f\"ANTHROPIC_API_KEY environment variable: {'Set' if api_key_env else 'Not set'}\")\n",
    "    \n",
    "    elif provider == \"google\":\n",
    "        print(\"Google AI connection test\")\n",
    "        api_key_env = os.getenv('GOOGLE_API_KEY')\n",
    "        print(f\"GOOGLE_API_KEY environment variable: {'Set' if api_key_env else 'Not set'}\")\n",
    "    \n",
    "    else:\n",
    "        print(\"Generic provider - will test with LLM call only\")\n",
    "    \n",
    "    # Universal LLM functionality test\n",
    "    print(f\"\\n=== LLM Functionality Test ===\")\n",
    "    try:\n",
    "        test_response = llm.call([{\"role\": \"user\", \"content\": \"Respond with exactly: 'Test successful'\"}])\n",
    "        print(\"✅ LLM call successful!\")\n",
    "        print(f\"Response type: {type(test_response)}\")\n",
    "        \n",
    "        # Try to extract response content\n",
    "        if hasattr(test_response, 'content'):\n",
    "            print(f\"Response content: {test_response.content[:100]}...\")\n",
    "        elif isinstance(test_response, str):\n",
    "            print(f\"Response: {test_response[:100]}...\")\n",
    "        else:\n",
    "            print(f\"Response: {str(test_response)[:100]}...\")\n",
    "            \n",
    "    except Exception as e:\n",
    "        print(f\"❌ LLM call failed: {e}\")\n",
    "        print(f\"Error type: {type(e).__name__}\")\n",
    "        \n",
    "        # Provide specific troubleshooting tips based on error\n",
    "        error_str = str(e).lower()\n",
    "        if \"connection\" in error_str or \"timeout\" in error_str:\n",
    "            print(\"💡 Tip: Check network connection and base_url configuration\")\n",
    "        elif \"api_key\" in error_str or \"authentication\" in error_str or \"unauthorized\" in error_str:\n",
    "            print(\"💡 Tip: Check API key configuration and permissions\")\n",
    "        elif \"model\" in error_str or \"not found\" in error_str:\n",
    "            print(\"💡 Tip: Verify model name and availability\")\n",
    "\n",
    "# Run the comprehensive test\n",
    "test_llm_connection()"
   ]
  },
  {
   "cell_type": "markdown",
   "id": "0f4fc76c",
   "metadata": {},
   "source": [
    "### Environment Variables Check for All LLM Providers"
   ]
  },
  {
   "cell_type": "code",
   "execution_count": 19,
   "id": "21dee670",
   "metadata": {},
   "outputs": [
    {
     "name": "stdout",
     "output_type": "stream",
     "text": [
      "=== Environment Variables Status ===\n",
      "\n",
      "OpenAI:\n",
      "  OPENAI_API_KEY: ✅ Set\n",
      "  OPENAI_BASE_URL: ❌ Not set\n",
      "\n",
      "Ollama:\n",
      "  OLLAMA_API_BASE: ✅ Set\n",
      "  OLLAMA_HOST: ✅ Set\n",
      "\n",
      "Configured providers: OpenAI, Ollama\n"
     ]
    }
   ],
   "source": [
    "def check_environment_variables():\n",
    "    \"\"\"Check environment variables for all major LLM providers\"\"\"\n",
    "    \n",
    "    print(\"=== Environment Variables Status ===\")\n",
    "    \n",
    "    # Common LLM provider environment variables\n",
    "    env_vars = {\n",
    "        \"OpenAI\": [\"OPENAI_API_KEY\", \"OPENAI_BASE_URL\"],\n",
    "        \"Anthropic\": [\"ANTHROPIC_API_KEY\"],\n",
    "        \"Google\": [\"GOOGLE_API_KEY\", \"GOOGLE_APPLICATION_CREDENTIALS\"],\n",
    "        \"Cohere\": [\"COHERE_API_KEY\"],\n",
    "        \"Hugging Face\": [\"HUGGINGFACE_API_KEY\", \"HF_TOKEN\"],\n",
    "        \"Ollama\": [\"OLLAMA_API_BASE\", \"OLLAMA_HOST\"],\n",
    "        \"Azure OpenAI\": [\"AZURE_OPENAI_API_KEY\", \"AZURE_OPENAI_ENDPOINT\"],\n",
    "        \"AWS Bedrock\": [\"AWS_ACCESS_KEY_ID\", \"AWS_SECRET_ACCESS_KEY\", \"AWS_REGION\"],\n",
    "        \"Together AI\": [\"TOGETHER_API_KEY\"],\n",
    "        \"Replicate\": [\"REPLICATE_API_TOKEN\"],\n",
    "        \"Perplexity\": [\"PERPLEXITYAI_API_KEY\"],\n",
    "        \"Groq\": [\"GROQ_API_KEY\"]\n",
    "    }\n",
    "    \n",
    "    found_providers = []\n",
    "    \n",
    "    for provider, vars_list in env_vars.items():\n",
    "        provider_vars = {}\n",
    "        has_any_var = False\n",
    "        \n",
    "        for var in vars_list:\n",
    "            value = os.getenv(var)\n",
    "            if value:\n",
    "                provider_vars[var] = \"✅ Set\"\n",
    "                has_any_var = True\n",
    "            else:\n",
    "                provider_vars[var] = \"❌ Not set\"\n",
    "        \n",
    "        if has_any_var:\n",
    "            found_providers.append(provider)\n",
    "            print(f\"\\n{provider}:\")\n",
    "            for var, status in provider_vars.items():\n",
    "                print(f\"  {var}: {status}\")\n",
    "    \n",
    "    if not found_providers:\n",
    "        print(\"No LLM provider environment variables found.\")\n",
    "        print(\"Make sure to set the appropriate API keys for your chosen provider.\")\n",
    "    else:\n",
    "        print(f\"\\nConfigured providers: {', '.join(found_providers)}\")\n",
    "\n",
    "# Run environment check\n",
    "check_environment_variables()"
   ]
  },
  {
   "cell_type": "markdown",
   "id": "c69131c7",
   "metadata": {},
   "source": [
    "##  Define A Structured Schema For Entity-Relation-Entity Triplets"
   ]
  },
  {
   "cell_type": "code",
   "execution_count": 20,
   "id": "ed6b10cd",
   "metadata": {},
   "outputs": [],
   "source": [
    "from pydantic import BaseModel, Field\n",
    "\n",
    "class EntityRelationEntity(BaseModel):\n",
    "    entity: str = Field(description=\"The first entity in the triplet\")\n",
    "    relation: str = Field(description=\"The relation between the first and second entity\")\n",
    "    entity: str = Field(description=\"The second entity in the triplet\")\n",
    "    \n",
    "# NOTE: Whenever you define structured outputs, ALWAYS add descriptions to each field for better model guidance."
   ]
  },
  {
   "cell_type": "markdown",
   "id": "b961b762",
   "metadata": {},
   "source": [
    "## Create Agent Responsible For Extracting Structured Triplets From Text"
   ]
  },
  {
   "cell_type": "code",
   "execution_count": 21,
   "id": "5c05b00d",
   "metadata": {},
   "outputs": [],
   "source": [
    "from crewai import Agent\n",
    "\n",
    "agent = Agent(\n",
    "    role=\"Senior Linguist\",\n",
    "    goal=\"Analyse the query and extract entity-relation-entity triplets\",\n",
    "    backstory=\"You are a senior linguist that is known for your analytical skills.\",\n",
    "    verbose=True\n",
    ")"
   ]
  },
  {
   "cell_type": "markdown",
   "id": "efccd75b",
   "metadata": {},
   "source": [
    "## Create Task That Instructs The Agent To Extract Entity-Relation-Entity Triplets From Text"
   ]
  },
  {
   "cell_type": "code",
   "execution_count": 22,
   "id": "db79d8ad",
   "metadata": {},
   "outputs": [],
   "source": [
    "from crewai import Task\n",
    "\n",
    "task = Task(\n",
    "    description=\"\"\"Analyse the query and return structured JSON\n",
    "                   output in the form of\n",
    "                   - entity\n",
    "                   - relation\n",
    "                   - entity\n",
    "\n",
    "                   The query is: {query}\n",
    "                   \"\"\",\n",
    "    expected_output=\"\"\"A structured JSON object with the\n",
    "                       entity-relation-entity triplets\"\"\",\n",
    "    output_pydantic=EntityRelationEntity,\n",
    "    verbose=True,\n",
    "    agent=agent\n",
    ")"
   ]
  },
  {
   "cell_type": "markdown",
   "id": "987095a6",
   "metadata": {},
   "source": [
    "#### 🎯 Why Use `output_pydantic` for Structured Output?\n",
    "\n",
    "The `output_pydantic=EntityRelationEntity` parameter in the task definition is **crucial** for ensuring reliable, structured output from AI agents. Here's why:\n",
    "\n",
    "#### **Problems Solved by Pydantic Structured Output:**\n",
    "\n",
    "1. **🚫 Prevents Inconsistent JSON Format**\n",
    "   - **Without Pydantic**: Agent might return `{\"entity1\": \"Apple\", \"relationship\": \"founded by\", \"entity2\": \"Steve Jobs\"}`\n",
    "   - **With Pydantic**: Agent is forced to use exact field names: `{\"entity\": \"Apple\", \"relation\": \"founded by\", \"entity\": \"Steve Jobs\"}`\n",
    "\n",
    "2. **🚫 Prevents Invalid JSON Structure**\n",
    "   - **Without Pydantic**: Agent might return malformed JSON, plain text, or nested objects\n",
    "   - **With Pydantic**: Guaranteed valid JSON matching the exact schema definition\n",
    "\n",
    "3. **🚫 Prevents Missing Required Fields**\n",
    "   - **Without Pydantic**: Agent might return `{\"entity\": \"Apple\"}` (missing relation and second entity)\n",
    "   - **With Pydantic**: All required fields must be present or the output is rejected\n",
    "\n",
    "4. **🚫 Prevents Type Mismatches**\n",
    "   - **Without Pydantic**: Agent might return `{\"entity\": 123, \"relation\": [\"founded\"], \"entity\": null}`\n",
    "   - **With Pydantic**: All fields are validated as strings with proper type checking\n",
    "\n",
    "#### **How Pydantic Enforcement Works:**\n",
    "\n",
    "```python\n",
    "# The Pydantic model acts as a strict contract:\n",
    "class EntityRelationEntity(BaseModel):\n",
    "    entity: str = Field(description=\"The first entity in the triplet\")\n",
    "    relation: str = Field(description=\"The relation between the first and second entity\") \n",
    "    entity: str = Field(description=\"The second entity in the triplet\")\n",
    "```\n",
    "\n",
    "- **Field descriptions** guide the AI model on what each field should contain\n",
    "- **Type annotations** (`str`) enforce data types\n",
    "- **Required fields** ensure completeness of the output\n",
    "- **Automatic validation** happens before the task completes\n",
    "\n",
    "#### **Benefits for Downstream Processing:**\n",
    "\n",
    "- **Reliable Parsing**: No need to handle malformed JSON or unexpected formats\n",
    "- **Type Safety**: Guaranteed string values for all entities and relations\n",
    "- **Consistent Interface**: Same structure every time, enabling reliable automation\n",
    "- **Error Prevention**: Catches issues at the AI output level, not in your application code\n",
    "\n",
    "#### **Without Pydantic - Potential Chaos:**\n",
    "```json\n",
    "// Inconsistent field names\n",
    "{\"subject\": \"Apple\", \"predicate\": \"was founded by\", \"object\": \"Steve Jobs\"}\n",
    "\n",
    "// Missing fields  \n",
    "{\"entity\": \"Apple\", \"relation\": \"founded by\"}\n",
    "\n",
    "// Wrong types\n",
    "{\"entity\": 123, \"relation\": [\"founded\", \"created\"], \"entity\": null}\n",
    "\n",
    "// Plain text instead of JSON\n",
    "\"Apple was founded by Steve Jobs\"\n",
    "```\n",
    "\n",
    "#### **With Pydantic - Guaranteed Structure:**\n",
    "```json\n",
    "{\n",
    "  \"entity\": \"Apple\",\n",
    "  \"relation\": \"founded by\", \n",
    "  \"entity\": \"Steve Jobs\"\n",
    "}\n",
    "```\n",
    "\n",
    "**🔑 Key Takeaway**: Pydantic structured output transforms unreliable AI text generation into predictable, programmatically usable data structures!"
   ]
  },
  {
   "cell_type": "markdown",
   "id": "1325ffe7",
   "metadata": {},
   "source": [
    "## Create Crew To Extract Entity-Relation-Entity Triplets From Text"
   ]
  },
  {
   "cell_type": "code",
   "execution_count": 23,
   "id": "22cce01b",
   "metadata": {},
   "outputs": [
    {
     "data": {
      "text/html": [
       "<pre style=\"white-space:pre;overflow-x:auto;line-height:normal;font-family:Menlo,'DejaVu Sans Mono',consolas,'Courier New',monospace\"><span style=\"color: #008080; text-decoration-color: #008080\">╭──────────────────────────────────────────── Crew Execution Started ─────────────────────────────────────────────╮</span>\n",
       "<span style=\"color: #008080; text-decoration-color: #008080\">│</span>                                                                                                                 <span style=\"color: #008080; text-decoration-color: #008080\">│</span>\n",
       "<span style=\"color: #008080; text-decoration-color: #008080\">│</span>  <span style=\"color: #008080; text-decoration-color: #008080; font-weight: bold\">Crew Execution Started</span>                                                                                         <span style=\"color: #008080; text-decoration-color: #008080\">│</span>\n",
       "<span style=\"color: #008080; text-decoration-color: #008080\">│</span>  <span style=\"color: #c0c0c0; text-decoration-color: #c0c0c0\">Name: </span><span style=\"color: #008080; text-decoration-color: #008080\">crew</span>                                                                                                     <span style=\"color: #008080; text-decoration-color: #008080\">│</span>\n",
       "<span style=\"color: #008080; text-decoration-color: #008080\">│</span>  <span style=\"color: #c0c0c0; text-decoration-color: #c0c0c0\">ID: </span><span style=\"color: #008080; text-decoration-color: #008080\">3eb35c7f-8f63-45f4-aeac-15a4895699a5</span>                                                                       <span style=\"color: #008080; text-decoration-color: #008080\">│</span>\n",
       "<span style=\"color: #008080; text-decoration-color: #008080\">│</span>  <span style=\"color: #c0c0c0; text-decoration-color: #c0c0c0\">Tool Args: </span>                                                                                                    <span style=\"color: #008080; text-decoration-color: #008080\">│</span>\n",
       "<span style=\"color: #008080; text-decoration-color: #008080\">│</span>                                                                                                                 <span style=\"color: #008080; text-decoration-color: #008080\">│</span>\n",
       "<span style=\"color: #008080; text-decoration-color: #008080\">│</span>                                                                                                                 <span style=\"color: #008080; text-decoration-color: #008080\">│</span>\n",
       "<span style=\"color: #008080; text-decoration-color: #008080\">╰─────────────────────────────────────────────────────────────────────────────────────────────────────────────────╯</span>\n",
       "</pre>\n"
      ],
      "text/plain": [
       "\u001b[36m╭─\u001b[0m\u001b[36m───────────────────────────────────────────\u001b[0m\u001b[36m Crew Execution Started \u001b[0m\u001b[36m────────────────────────────────────────────\u001b[0m\u001b[36m─╮\u001b[0m\n",
       "\u001b[36m│\u001b[0m                                                                                                                 \u001b[36m│\u001b[0m\n",
       "\u001b[36m│\u001b[0m  \u001b[1;36mCrew Execution Started\u001b[0m                                                                                         \u001b[36m│\u001b[0m\n",
       "\u001b[36m│\u001b[0m  \u001b[37mName: \u001b[0m\u001b[36mcrew\u001b[0m                                                                                                     \u001b[36m│\u001b[0m\n",
       "\u001b[36m│\u001b[0m  \u001b[37mID: \u001b[0m\u001b[36m3eb35c7f-8f63-45f4-aeac-15a4895699a5\u001b[0m                                                                       \u001b[36m│\u001b[0m\n",
       "\u001b[36m│\u001b[0m  \u001b[37mTool Args: \u001b[0m                                                                                                    \u001b[36m│\u001b[0m\n",
       "\u001b[36m│\u001b[0m                                                                                                                 \u001b[36m│\u001b[0m\n",
       "\u001b[36m│\u001b[0m                                                                                                                 \u001b[36m│\u001b[0m\n",
       "\u001b[36m╰─────────────────────────────────────────────────────────────────────────────────────────────────────────────────╯\u001b[0m\n"
      ]
     },
     "metadata": {},
     "output_type": "display_data"
    },
    {
     "data": {
      "text/html": [
       "<pre style=\"white-space:pre;overflow-x:auto;line-height:normal;font-family:Menlo,'DejaVu Sans Mono',consolas,'Courier New',monospace\">\n",
       "</pre>\n"
      ],
      "text/plain": [
       "\n"
      ]
     },
     "metadata": {},
     "output_type": "display_data"
    },
    {
     "data": {
      "text/html": [
       "<pre style=\"white-space:pre;overflow-x:auto;line-height:normal;font-family:Menlo,'DejaVu Sans Mono',consolas,'Courier New',monospace\"></pre>\n"
      ],
      "text/plain": []
     },
     "metadata": {},
     "output_type": "display_data"
    },
    {
     "data": {
      "text/html": [
       "<pre style=\"white-space:pre;overflow-x:auto;line-height:normal;font-family:Menlo,'DejaVu Sans Mono',consolas,'Courier New',monospace\"><span style=\"color: #800080; text-decoration-color: #800080\">╭─────────────────────────────────────────────── 🤖 Agent Started ────────────────────────────────────────────────╮</span>\n",
       "<span style=\"color: #800080; text-decoration-color: #800080\">│</span>                                                                                                                 <span style=\"color: #800080; text-decoration-color: #800080\">│</span>\n",
       "<span style=\"color: #800080; text-decoration-color: #800080\">│</span>  <span style=\"color: #c0c0c0; text-decoration-color: #c0c0c0\">Agent: </span><span style=\"color: #00ff00; text-decoration-color: #00ff00; font-weight: bold\">Senior Linguist</span>                                                                                         <span style=\"color: #800080; text-decoration-color: #800080\">│</span>\n",
       "<span style=\"color: #800080; text-decoration-color: #800080\">│</span>                                                                                                                 <span style=\"color: #800080; text-decoration-color: #800080\">│</span>\n",
       "<span style=\"color: #800080; text-decoration-color: #800080\">│</span>  <span style=\"color: #c0c0c0; text-decoration-color: #c0c0c0\">Task: </span><span style=\"color: #00ff00; text-decoration-color: #00ff00\">Analyse the query and return structured JSON</span>                                                             <span style=\"color: #800080; text-decoration-color: #800080\">│</span>\n",
       "<span style=\"color: #800080; text-decoration-color: #800080\">│</span>  <span style=\"color: #00ff00; text-decoration-color: #00ff00\">                   output in the form of</span>                                                                       <span style=\"color: #800080; text-decoration-color: #800080\">│</span>\n",
       "<span style=\"color: #800080; text-decoration-color: #800080\">│</span>  <span style=\"color: #00ff00; text-decoration-color: #00ff00\">                   - entity</span>                                                                                    <span style=\"color: #800080; text-decoration-color: #800080\">│</span>\n",
       "<span style=\"color: #800080; text-decoration-color: #800080\">│</span>  <span style=\"color: #00ff00; text-decoration-color: #00ff00\">                   - relation</span>                                                                                  <span style=\"color: #800080; text-decoration-color: #800080\">│</span>\n",
       "<span style=\"color: #800080; text-decoration-color: #800080\">│</span>  <span style=\"color: #00ff00; text-decoration-color: #00ff00\">                   - entity</span>                                                                                    <span style=\"color: #800080; text-decoration-color: #800080\">│</span>\n",
       "<span style=\"color: #800080; text-decoration-color: #800080\">│</span>                                                                                                                 <span style=\"color: #800080; text-decoration-color: #800080\">│</span>\n",
       "<span style=\"color: #800080; text-decoration-color: #800080\">│</span>  <span style=\"color: #00ff00; text-decoration-color: #00ff00\">                   The query is: Paris is the capital of France.</span>                                               <span style=\"color: #800080; text-decoration-color: #800080\">│</span>\n",
       "<span style=\"color: #800080; text-decoration-color: #800080\">│</span>  <span style=\"color: #00ff00; text-decoration-color: #00ff00\">                   </span>                                                                                            <span style=\"color: #800080; text-decoration-color: #800080\">│</span>\n",
       "<span style=\"color: #800080; text-decoration-color: #800080\">│</span>                                                                                                                 <span style=\"color: #800080; text-decoration-color: #800080\">│</span>\n",
       "<span style=\"color: #800080; text-decoration-color: #800080\">╰─────────────────────────────────────────────────────────────────────────────────────────────────────────────────╯</span>\n",
       "</pre>\n"
      ],
      "text/plain": [
       "\u001b[35m╭─\u001b[0m\u001b[35m──────────────────────────────────────────────\u001b[0m\u001b[35m 🤖 Agent Started \u001b[0m\u001b[35m───────────────────────────────────────────────\u001b[0m\u001b[35m─╮\u001b[0m\n",
       "\u001b[35m│\u001b[0m                                                                                                                 \u001b[35m│\u001b[0m\n",
       "\u001b[35m│\u001b[0m  \u001b[37mAgent: \u001b[0m\u001b[1;92mSenior Linguist\u001b[0m                                                                                         \u001b[35m│\u001b[0m\n",
       "\u001b[35m│\u001b[0m                                                                                                                 \u001b[35m│\u001b[0m\n",
       "\u001b[35m│\u001b[0m  \u001b[37mTask: \u001b[0m\u001b[92mAnalyse the query and return structured JSON\u001b[0m                                                             \u001b[35m│\u001b[0m\n",
       "\u001b[35m│\u001b[0m  \u001b[92m                   output in the form of\u001b[0m                                                                       \u001b[35m│\u001b[0m\n",
       "\u001b[35m│\u001b[0m  \u001b[92m                   - entity\u001b[0m                                                                                    \u001b[35m│\u001b[0m\n",
       "\u001b[35m│\u001b[0m  \u001b[92m                   - relation\u001b[0m                                                                                  \u001b[35m│\u001b[0m\n",
       "\u001b[35m│\u001b[0m  \u001b[92m                   - entity\u001b[0m                                                                                    \u001b[35m│\u001b[0m\n",
       "\u001b[35m│\u001b[0m                                                                                                                 \u001b[35m│\u001b[0m\n",
       "\u001b[35m│\u001b[0m  \u001b[92m                   The query is: Paris is the capital of France.\u001b[0m                                               \u001b[35m│\u001b[0m\n",
       "\u001b[35m│\u001b[0m  \u001b[92m                   \u001b[0m                                                                                            \u001b[35m│\u001b[0m\n",
       "\u001b[35m│\u001b[0m                                                                                                                 \u001b[35m│\u001b[0m\n",
       "\u001b[35m╰─────────────────────────────────────────────────────────────────────────────────────────────────────────────────╯\u001b[0m\n"
      ]
     },
     "metadata": {},
     "output_type": "display_data"
    },
    {
     "data": {
      "text/html": [
       "<pre style=\"white-space:pre;overflow-x:auto;line-height:normal;font-family:Menlo,'DejaVu Sans Mono',consolas,'Courier New',monospace\">\n",
       "</pre>\n"
      ],
      "text/plain": [
       "\n"
      ]
     },
     "metadata": {},
     "output_type": "display_data"
    },
    {
     "data": {
      "text/html": [
       "<pre style=\"white-space:pre;overflow-x:auto;line-height:normal;font-family:Menlo,'DejaVu Sans Mono',consolas,'Courier New',monospace\"></pre>\n"
      ],
      "text/plain": []
     },
     "metadata": {},
     "output_type": "display_data"
    },
    {
     "data": {
      "text/html": [
       "<pre style=\"white-space:pre;overflow-x:auto;line-height:normal;font-family:Menlo,'DejaVu Sans Mono',consolas,'Courier New',monospace\"><span style=\"color: #008000; text-decoration-color: #008000\">╭───────────────────────────────────────────── ✅ Agent Final Answer ─────────────────────────────────────────────╮</span>\n",
       "<span style=\"color: #008000; text-decoration-color: #008000\">│</span>                                                                                                                 <span style=\"color: #008000; text-decoration-color: #008000\">│</span>\n",
       "<span style=\"color: #008000; text-decoration-color: #008000\">│</span>  <span style=\"color: #c0c0c0; text-decoration-color: #c0c0c0\">Agent: </span><span style=\"color: #00ff00; text-decoration-color: #00ff00; font-weight: bold\">Senior Linguist</span>                                                                                         <span style=\"color: #008000; text-decoration-color: #008000\">│</span>\n",
       "<span style=\"color: #008000; text-decoration-color: #008000\">│</span>                                                                                                                 <span style=\"color: #008000; text-decoration-color: #008000\">│</span>\n",
       "<span style=\"color: #008000; text-decoration-color: #008000\">│</span>  <span style=\"color: #c0c0c0; text-decoration-color: #c0c0c0\">Final Answer:</span>                                                                                                  <span style=\"color: #008000; text-decoration-color: #008000\">│</span>\n",
       "<span style=\"color: #008000; text-decoration-color: #008000\">│</span>  <span style=\"color: #00ff00; text-decoration-color: #00ff00\">{</span>                                                                                                              <span style=\"color: #008000; text-decoration-color: #008000\">│</span>\n",
       "<span style=\"color: #008000; text-decoration-color: #008000\">│</span>  <span style=\"color: #00ff00; text-decoration-color: #00ff00\">  \"entity\": \"Paris\",</span>                                                                                           <span style=\"color: #008000; text-decoration-color: #008000\">│</span>\n",
       "<span style=\"color: #008000; text-decoration-color: #008000\">│</span>  <span style=\"color: #00ff00; text-decoration-color: #00ff00\">  \"relation\": \"is the capital of\"</span>                                                                              <span style=\"color: #008000; text-decoration-color: #008000\">│</span>\n",
       "<span style=\"color: #008000; text-decoration-color: #008000\">│</span>  <span style=\"color: #00ff00; text-decoration-color: #00ff00\">}  </span>                                                                                                            <span style=\"color: #008000; text-decoration-color: #008000\">│</span>\n",
       "<span style=\"color: #008000; text-decoration-color: #008000\">│</span>  <span style=\"color: #00ff00; text-decoration-color: #00ff00\">{</span>                                                                                                              <span style=\"color: #008000; text-decoration-color: #008000\">│</span>\n",
       "<span style=\"color: #008000; text-decoration-color: #008000\">│</span>  <span style=\"color: #00ff00; text-decoration-color: #00ff00\">  \"entity\": \"France\",</span>                                                                                          <span style=\"color: #008000; text-decoration-color: #008000\">│</span>\n",
       "<span style=\"color: #008000; text-decoration-color: #008000\">│</span>  <span style=\"color: #00ff00; text-decoration-color: #00ff00\">  \"relation\": \"is the capital of\"</span>                                                                              <span style=\"color: #008000; text-decoration-color: #008000\">│</span>\n",
       "<span style=\"color: #008000; text-decoration-color: #008000\">│</span>  <span style=\"color: #00ff00; text-decoration-color: #00ff00\">}</span>                                                                                                              <span style=\"color: #008000; text-decoration-color: #008000\">│</span>\n",
       "<span style=\"color: #008000; text-decoration-color: #008000\">│</span>                                                                                                                 <span style=\"color: #008000; text-decoration-color: #008000\">│</span>\n",
       "<span style=\"color: #008000; text-decoration-color: #008000\">╰─────────────────────────────────────────────────────────────────────────────────────────────────────────────────╯</span>\n",
       "</pre>\n"
      ],
      "text/plain": [
       "\u001b[32m╭─\u001b[0m\u001b[32m────────────────────────────────────────────\u001b[0m\u001b[32m ✅ Agent Final Answer \u001b[0m\u001b[32m────────────────────────────────────────────\u001b[0m\u001b[32m─╮\u001b[0m\n",
       "\u001b[32m│\u001b[0m                                                                                                                 \u001b[32m│\u001b[0m\n",
       "\u001b[32m│\u001b[0m  \u001b[37mAgent: \u001b[0m\u001b[1;92mSenior Linguist\u001b[0m                                                                                         \u001b[32m│\u001b[0m\n",
       "\u001b[32m│\u001b[0m                                                                                                                 \u001b[32m│\u001b[0m\n",
       "\u001b[32m│\u001b[0m  \u001b[37mFinal Answer:\u001b[0m                                                                                                  \u001b[32m│\u001b[0m\n",
       "\u001b[32m│\u001b[0m  \u001b[92m{\u001b[0m                                                                                                              \u001b[32m│\u001b[0m\n",
       "\u001b[32m│\u001b[0m  \u001b[92m  \"entity\": \"Paris\",\u001b[0m                                                                                           \u001b[32m│\u001b[0m\n",
       "\u001b[32m│\u001b[0m  \u001b[92m  \"relation\": \"is the capital of\"\u001b[0m                                                                              \u001b[32m│\u001b[0m\n",
       "\u001b[32m│\u001b[0m  \u001b[92m}  \u001b[0m                                                                                                            \u001b[32m│\u001b[0m\n",
       "\u001b[32m│\u001b[0m  \u001b[92m{\u001b[0m                                                                                                              \u001b[32m│\u001b[0m\n",
       "\u001b[32m│\u001b[0m  \u001b[92m  \"entity\": \"France\",\u001b[0m                                                                                          \u001b[32m│\u001b[0m\n",
       "\u001b[32m│\u001b[0m  \u001b[92m  \"relation\": \"is the capital of\"\u001b[0m                                                                              \u001b[32m│\u001b[0m\n",
       "\u001b[32m│\u001b[0m  \u001b[92m}\u001b[0m                                                                                                              \u001b[32m│\u001b[0m\n",
       "\u001b[32m│\u001b[0m                                                                                                                 \u001b[32m│\u001b[0m\n",
       "\u001b[32m╰─────────────────────────────────────────────────────────────────────────────────────────────────────────────────╯\u001b[0m\n"
      ]
     },
     "metadata": {},
     "output_type": "display_data"
    },
    {
     "data": {
      "text/html": [
       "<pre style=\"white-space:pre;overflow-x:auto;line-height:normal;font-family:Menlo,'DejaVu Sans Mono',consolas,'Courier New',monospace\">\n",
       "</pre>\n"
      ],
      "text/plain": [
       "\n"
      ]
     },
     "metadata": {},
     "output_type": "display_data"
    },
    {
     "data": {
      "text/html": [
       "<pre style=\"white-space:pre;overflow-x:auto;line-height:normal;font-family:Menlo,'DejaVu Sans Mono',consolas,'Courier New',monospace\"></pre>\n"
      ],
      "text/plain": []
     },
     "metadata": {},
     "output_type": "display_data"
    },
    {
     "data": {
      "text/html": [
       "<pre style=\"white-space:pre;overflow-x:auto;line-height:normal;font-family:Menlo,'DejaVu Sans Mono',consolas,'Courier New',monospace\"><span style=\"color: #008000; text-decoration-color: #008000\">╭──────────────────────────────────────────────── Task Completion ────────────────────────────────────────────────╮</span>\n",
       "<span style=\"color: #008000; text-decoration-color: #008000\">│</span>                                                                                                                 <span style=\"color: #008000; text-decoration-color: #008000\">│</span>\n",
       "<span style=\"color: #008000; text-decoration-color: #008000\">│</span>  <span style=\"color: #008000; text-decoration-color: #008000; font-weight: bold\">Task Completed</span>                                                                                                 <span style=\"color: #008000; text-decoration-color: #008000\">│</span>\n",
       "<span style=\"color: #008000; text-decoration-color: #008000\">│</span>  <span style=\"color: #c0c0c0; text-decoration-color: #c0c0c0\">Name: </span><span style=\"color: #008000; text-decoration-color: #008000\">c8ea9a35-568f-445e-8f3b-b7e22d643ae3</span>                                                                     <span style=\"color: #008000; text-decoration-color: #008000\">│</span>\n",
       "<span style=\"color: #008000; text-decoration-color: #008000\">│</span>  <span style=\"color: #c0c0c0; text-decoration-color: #c0c0c0\">Agent: </span><span style=\"color: #008000; text-decoration-color: #008000\">Senior Linguist</span>                                                                                         <span style=\"color: #008000; text-decoration-color: #008000\">│</span>\n",
       "<span style=\"color: #008000; text-decoration-color: #008000\">│</span>  <span style=\"color: #c0c0c0; text-decoration-color: #c0c0c0\">Tool Args: </span>                                                                                                    <span style=\"color: #008000; text-decoration-color: #008000\">│</span>\n",
       "<span style=\"color: #008000; text-decoration-color: #008000\">│</span>                                                                                                                 <span style=\"color: #008000; text-decoration-color: #008000\">│</span>\n",
       "<span style=\"color: #008000; text-decoration-color: #008000\">│</span>                                                                                                                 <span style=\"color: #008000; text-decoration-color: #008000\">│</span>\n",
       "<span style=\"color: #008000; text-decoration-color: #008000\">╰─────────────────────────────────────────────────────────────────────────────────────────────────────────────────╯</span>\n",
       "</pre>\n"
      ],
      "text/plain": [
       "\u001b[32m╭─\u001b[0m\u001b[32m───────────────────────────────────────────────\u001b[0m\u001b[32m Task Completion \u001b[0m\u001b[32m───────────────────────────────────────────────\u001b[0m\u001b[32m─╮\u001b[0m\n",
       "\u001b[32m│\u001b[0m                                                                                                                 \u001b[32m│\u001b[0m\n",
       "\u001b[32m│\u001b[0m  \u001b[1;32mTask Completed\u001b[0m                                                                                                 \u001b[32m│\u001b[0m\n",
       "\u001b[32m│\u001b[0m  \u001b[37mName: \u001b[0m\u001b[32mc8ea9a35-568f-445e-8f3b-b7e22d643ae3\u001b[0m                                                                     \u001b[32m│\u001b[0m\n",
       "\u001b[32m│\u001b[0m  \u001b[37mAgent: \u001b[0m\u001b[32mSenior Linguist\u001b[0m                                                                                         \u001b[32m│\u001b[0m\n",
       "\u001b[32m│\u001b[0m  \u001b[37mTool Args: \u001b[0m                                                                                                    \u001b[32m│\u001b[0m\n",
       "\u001b[32m│\u001b[0m                                                                                                                 \u001b[32m│\u001b[0m\n",
       "\u001b[32m│\u001b[0m                                                                                                                 \u001b[32m│\u001b[0m\n",
       "\u001b[32m╰─────────────────────────────────────────────────────────────────────────────────────────────────────────────────╯\u001b[0m\n"
      ]
     },
     "metadata": {},
     "output_type": "display_data"
    },
    {
     "data": {
      "text/html": [
       "<pre style=\"white-space:pre;overflow-x:auto;line-height:normal;font-family:Menlo,'DejaVu Sans Mono',consolas,'Courier New',monospace\">\n",
       "</pre>\n"
      ],
      "text/plain": [
       "\n"
      ]
     },
     "metadata": {},
     "output_type": "display_data"
    },
    {
     "data": {
      "text/html": [
       "<pre style=\"white-space:pre;overflow-x:auto;line-height:normal;font-family:Menlo,'DejaVu Sans Mono',consolas,'Courier New',monospace\"><span style=\"color: #008000; text-decoration-color: #008000\">╭──────────────────────────────────────────────── Crew Completion ────────────────────────────────────────────────╮</span>\n",
       "<span style=\"color: #008000; text-decoration-color: #008000\">│</span>                                                                                                                 <span style=\"color: #008000; text-decoration-color: #008000\">│</span>\n",
       "<span style=\"color: #008000; text-decoration-color: #008000\">│</span>  <span style=\"color: #008000; text-decoration-color: #008000; font-weight: bold\">Crew Execution Completed</span>                                                                                       <span style=\"color: #008000; text-decoration-color: #008000\">│</span>\n",
       "<span style=\"color: #008000; text-decoration-color: #008000\">│</span>  <span style=\"color: #c0c0c0; text-decoration-color: #c0c0c0\">Name: </span><span style=\"color: #008000; text-decoration-color: #008000\">crew</span>                                                                                                     <span style=\"color: #008000; text-decoration-color: #008000\">│</span>\n",
       "<span style=\"color: #008000; text-decoration-color: #008000\">│</span>  <span style=\"color: #c0c0c0; text-decoration-color: #c0c0c0\">ID: </span><span style=\"color: #008000; text-decoration-color: #008000\">3eb35c7f-8f63-45f4-aeac-15a4895699a5</span>                                                                       <span style=\"color: #008000; text-decoration-color: #008000\">│</span>\n",
       "<span style=\"color: #008000; text-decoration-color: #008000\">│</span>  <span style=\"color: #c0c0c0; text-decoration-color: #c0c0c0\">Tool Args: </span>                                                                                                    <span style=\"color: #008000; text-decoration-color: #008000\">│</span>\n",
       "<span style=\"color: #008000; text-decoration-color: #008000\">│</span>  <span style=\"color: #c0c0c0; text-decoration-color: #c0c0c0\">Final Output: {</span>                                                                                                <span style=\"color: #008000; text-decoration-color: #008000\">│</span>\n",
       "<span style=\"color: #008000; text-decoration-color: #008000\">│</span>  <span style=\"color: #c0c0c0; text-decoration-color: #c0c0c0\">  \"entity\": \"Paris\",</span>                                                                                           <span style=\"color: #008000; text-decoration-color: #008000\">│</span>\n",
       "<span style=\"color: #008000; text-decoration-color: #008000\">│</span>  <span style=\"color: #c0c0c0; text-decoration-color: #c0c0c0\">  \"relation\": \"is the capital of\"</span>                                                                              <span style=\"color: #008000; text-decoration-color: #008000\">│</span>\n",
       "<span style=\"color: #008000; text-decoration-color: #008000\">│</span>  <span style=\"color: #c0c0c0; text-decoration-color: #c0c0c0\">}  </span>                                                                                                            <span style=\"color: #008000; text-decoration-color: #008000\">│</span>\n",
       "<span style=\"color: #008000; text-decoration-color: #008000\">│</span>  <span style=\"color: #c0c0c0; text-decoration-color: #c0c0c0\">{</span>                                                                                                              <span style=\"color: #008000; text-decoration-color: #008000\">│</span>\n",
       "<span style=\"color: #008000; text-decoration-color: #008000\">│</span>  <span style=\"color: #c0c0c0; text-decoration-color: #c0c0c0\">  \"entity\": \"France\",</span>                                                                                          <span style=\"color: #008000; text-decoration-color: #008000\">│</span>\n",
       "<span style=\"color: #008000; text-decoration-color: #008000\">│</span>  <span style=\"color: #c0c0c0; text-decoration-color: #c0c0c0\">  \"relation\": \"is the capital of\"</span>                                                                              <span style=\"color: #008000; text-decoration-color: #008000\">│</span>\n",
       "<span style=\"color: #008000; text-decoration-color: #008000\">│</span>  <span style=\"color: #c0c0c0; text-decoration-color: #c0c0c0\">}</span>                                                                                                              <span style=\"color: #008000; text-decoration-color: #008000\">│</span>\n",
       "<span style=\"color: #008000; text-decoration-color: #008000\">│</span>                                                                                                                 <span style=\"color: #008000; text-decoration-color: #008000\">│</span>\n",
       "<span style=\"color: #008000; text-decoration-color: #008000\">│</span>                                                                                                                 <span style=\"color: #008000; text-decoration-color: #008000\">│</span>\n",
       "<span style=\"color: #008000; text-decoration-color: #008000\">╰─────────────────────────────────────────────────────────────────────────────────────────────────────────────────╯</span>\n",
       "</pre>\n"
      ],
      "text/plain": [
       "\u001b[32m╭─\u001b[0m\u001b[32m───────────────────────────────────────────────\u001b[0m\u001b[32m Crew Completion \u001b[0m\u001b[32m───────────────────────────────────────────────\u001b[0m\u001b[32m─╮\u001b[0m\n",
       "\u001b[32m│\u001b[0m                                                                                                                 \u001b[32m│\u001b[0m\n",
       "\u001b[32m│\u001b[0m  \u001b[1;32mCrew Execution Completed\u001b[0m                                                                                       \u001b[32m│\u001b[0m\n",
       "\u001b[32m│\u001b[0m  \u001b[37mName: \u001b[0m\u001b[32mcrew\u001b[0m                                                                                                     \u001b[32m│\u001b[0m\n",
       "\u001b[32m│\u001b[0m  \u001b[37mID: \u001b[0m\u001b[32m3eb35c7f-8f63-45f4-aeac-15a4895699a5\u001b[0m                                                                       \u001b[32m│\u001b[0m\n",
       "\u001b[32m│\u001b[0m  \u001b[37mTool Args: \u001b[0m                                                                                                    \u001b[32m│\u001b[0m\n",
       "\u001b[32m│\u001b[0m  \u001b[37mFinal Output: {\u001b[0m                                                                                                \u001b[32m│\u001b[0m\n",
       "\u001b[32m│\u001b[0m  \u001b[37m  \"entity\": \"Paris\",\u001b[0m                                                                                           \u001b[32m│\u001b[0m\n",
       "\u001b[32m│\u001b[0m  \u001b[37m  \"relation\": \"is the capital of\"\u001b[0m                                                                              \u001b[32m│\u001b[0m\n",
       "\u001b[32m│\u001b[0m  \u001b[37m}  \u001b[0m                                                                                                            \u001b[32m│\u001b[0m\n",
       "\u001b[32m│\u001b[0m  \u001b[37m{\u001b[0m                                                                                                              \u001b[32m│\u001b[0m\n",
       "\u001b[32m│\u001b[0m  \u001b[37m  \"entity\": \"France\",\u001b[0m                                                                                          \u001b[32m│\u001b[0m\n",
       "\u001b[32m│\u001b[0m  \u001b[37m  \"relation\": \"is the capital of\"\u001b[0m                                                                              \u001b[32m│\u001b[0m\n",
       "\u001b[32m│\u001b[0m  \u001b[37m}\u001b[0m                                                                                                              \u001b[32m│\u001b[0m\n",
       "\u001b[32m│\u001b[0m                                                                                                                 \u001b[32m│\u001b[0m\n",
       "\u001b[32m│\u001b[0m                                                                                                                 \u001b[32m│\u001b[0m\n",
       "\u001b[32m╰─────────────────────────────────────────────────────────────────────────────────────────────────────────────────╯\u001b[0m\n"
      ]
     },
     "metadata": {},
     "output_type": "display_data"
    },
    {
     "data": {
      "text/html": [
       "<pre style=\"white-space:pre;overflow-x:auto;line-height:normal;font-family:Menlo,'DejaVu Sans Mono',consolas,'Courier New',monospace\">\n",
       "</pre>\n"
      ],
      "text/plain": [
       "\n"
      ]
     },
     "metadata": {},
     "output_type": "display_data"
    }
   ],
   "source": [
    "from crewai import Crew, Process\n",
    "\n",
    "crew = Crew(\n",
    "    agents=[agent],\n",
    "    tasks=[task],\n",
    "    process=Process.sequential,\n",
    "    verbose=True\n",
    ")\n",
    "\n",
    "response = crew.kickoff(inputs={\"query\": \"Paris is the capital of France.\"})\n",
    "\n",
    "# Unc\n",
    "#\n",
    "# print(\"=== Crew Response ===\")\n",
    "# print(response.raw)"
   ]
  }
 ],
 "metadata": {
  "kernelspec": {
   "display_name": "Python 3",
   "language": "python",
   "name": "python3"
  },
  "language_info": {
   "codemirror_mode": {
    "name": "ipython",
    "version": 3
   },
   "file_extension": ".py",
   "mimetype": "text/x-python",
   "name": "python",
   "nbconvert_exporter": "python",
   "pygments_lexer": "ipython3",
   "version": "3.11.12"
  }
 },
 "nbformat": 4,
 "nbformat_minor": 5
}
