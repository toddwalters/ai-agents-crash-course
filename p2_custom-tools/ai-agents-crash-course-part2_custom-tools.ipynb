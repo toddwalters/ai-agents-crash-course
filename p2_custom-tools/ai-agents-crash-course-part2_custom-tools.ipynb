{
 "cells": [
  {
   "cell_type": "markdown",
   "id": "7d3890e2",
   "metadata": {},
   "source": [
    "# AI Agents Crash Course - Part 2 - Custom Tools"
   ]
  },
  {
   "cell_type": "markdown",
   "id": "411381fe",
   "metadata": {},
   "source": [
    "## Project Setup\n",
    "\n",
    "This notebook will guide you through setting up the project environment for using CrewAI. We will:\n",
    "\n",
    "1. Install the required Python modules.\n",
    "2. Set up a virtual environment.\n",
    "3. Verify the installation."
   ]
  },
  {
   "cell_type": "code",
   "execution_count": null,
   "id": "ddd38de7",
   "metadata": {},
   "outputs": [],
   "source": [
    "# Uncomment if you are not using devcontainers and want to set up a local environment\n",
    "# \n",
    "# # Step 1: Create and activate a virtual environment\n",
    "# #\n",
    "# %python3 -m venv venv\n",
    "# %source venv/bin/activate\n",
    "# \n",
    "# # Step 2: Install required Python modules\n",
    "# #\n",
    "# %pip install -r requirements.txt\n",
    "# \n",
    "# # Step 3: Verify installation\n",
    "# #\n",
    "# %pip list"
   ]
  },
  {
   "cell_type": "markdown",
   "id": "933d562a",
   "metadata": {},
   "source": [
    "## Pre-requisites"
   ]
  },
  {
   "cell_type": "markdown",
   "id": "4934961a",
   "metadata": {},
   "source": [
    "- You will need an API key from here: https://www.exchangerate-api.com/"
   ]
  },
  {
   "cell_type": "markdown",
   "id": "d8cc1c63",
   "metadata": {},
   "source": [
    "## Load Required Python Modules and Libraries"
   ]
  },
  {
   "cell_type": "markdown",
   "id": "541bf71f",
   "metadata": {},
   "source": [
    "### Import Essential Libraries\n",
    "\n",
    "This code block imports all the necessary libraries for building custom tools with CrewAI:\n",
    "\n",
    "- **`dotenv`**: Loads environment variables from `.env` files\n",
    "- **`os`**: Provides access to operating system interface for environment variables\n",
    "- **`requests`**: HTTP library for making API calls to external services\n",
    "- **`typing.Type`**: Type hints for better code documentation and IDE support\n",
    "- **`IPython.display.Markdown`**: Renders markdown output in Jupyter notebooks\n",
    "- **`crewai`**: Core CrewAI components (LLM, Agent, Task, Crew)\n",
    "- **`crewai.tools.BaseTool`**: Base class for creating custom tools\n",
    "- **`pydantic`**: Data validation and schema definition library"
   ]
  },
  {
   "cell_type": "code",
   "execution_count": null,
   "id": "d3773848",
   "metadata": {},
   "outputs": [],
   "source": [
    "from dotenv import load_dotenv\n",
    "import os\n",
    "import requests\n",
    "from typing import Type\n",
    "from IPython.display import Markdown\n",
    "from crewai import LLM, Agent, Task, Crew\n",
    "from crewai.tools import BaseTool\n",
    "from pydantic import BaseModel, Field"
   ]
  },
  {
   "cell_type": "markdown",
   "id": "7227f889",
   "metadata": {},
   "source": [
    "## [Optional] Enable litellm debug logging"
   ]
  },
  {
   "cell_type": "markdown",
   "id": "d4ee9fad",
   "metadata": {},
   "source": [
    "### Enable Debug Logging (Troubleshooting)\n",
    "\n",
    "This optional code enables detailed debug logging from the `litellm` library, which is useful for:\n",
    "\n",
    "- **Diagnosing API connection issues** with LLM providers\n",
    "- **Viewing detailed request/response logs** for troubleshooting\n",
    "- **Understanding token usage and rate limiting**\n",
    "\n",
    "⚠️ **Note**: Once enabled, you'll need to restart the Jupyter kernel to disable debug logging."
   ]
  },
  {
   "cell_type": "code",
   "execution_count": null,
   "id": "91476bcb",
   "metadata": {},
   "outputs": [],
   "source": [
    "# Uncomment in order to enable litellm debugging for better error diagnostics\n",
    "# NOTE: You will have to restart the jupyter kernel to disable debug logging once it has been enabled.\n",
    "#\n",
    "# import litellm\n",
    "# litellm._turn_on_debug()"
   ]
  },
  {
   "cell_type": "markdown",
   "id": "14be36ad",
   "metadata": {},
   "source": [
    "## Load Environment Variables and Configure LLM\n",
    "\n",
    "This block loads environment variables from the `.env` file, including the OpenAI API Key, which is required to authenticate with OpenAI's services. It then configures the `LLM` object to use OpenAI's GPT-4 model. Alternatively, you can uncomment the provided code to configure the `LLM` object to use Ollama with a local model, provided Ollama is installed and running."
   ]
  },
  {
   "cell_type": "code",
   "execution_count": null,
   "id": "19f650db",
   "metadata": {},
   "outputs": [],
   "source": [
    "# Load environment variables from .env file\n",
    "# Note: In devcontainer, variables are already loaded by dotenv feature,\n",
    "# but load_dotenv() is safe and won't override existing environment variables\n",
    "load_dotenv()\n",
    "\n",
    "# Uncomment the code block below to use OpenAI with your API Key\n",
    "# \n",
    "# api_key = os.getenv('OPENAI_API_KEY')\n",
    "# if not api_key:\n",
    "#     raise ValueError(\"OPENAI_API_KEY is not set in the .env file\")\n",
    "\n",
    "# Uncomment the code block below to use ollama\n",
    "# \n",
    "OLLAMA_API_BASE = os.getenv('OLLAMA_API_BASE')\n",
    "if not OLLAMA_API_BASE:\n",
    "    raise ValueError(\"OLLAMA_API_BASE is not set in the .env file\")"
   ]
  },
  {
   "cell_type": "markdown",
   "id": "8d72d53b",
   "metadata": {},
   "source": [
    "## Configure LLM\n",
    "\n",
    "Configures the `LLM` object to use OpenAI's GPT-4 model. \n",
    "\n",
    "Alternatively, you can uncomment the provided code to configure the `LLM` object to use Ollama with a local model, provided Ollama is installed and running."
   ]
  },
  {
   "cell_type": "code",
   "execution_count": null,
   "id": "8d1df9bc",
   "metadata": {},
   "outputs": [],
   "source": [
    "# llm = LLM(\n",
    "#     model=\"gpt-4o\",  # Specify the OpenAI model you want to use\n",
    "#     api_key=api_key\n",
    "# )\n",
    "\n",
    "# Uncomment the code block below to use Ollama with your local model\n",
    "# Make sure to have Ollama installed and running\n",
    "# \n",
    "llm = LLM(\n",
    "    # model=\"ollama/llama3:latest\",\n",
    "    # model=\"ollama/llama3.2:1b\",\n",
    "    # model=\"ollama/deepseek-r1:latest\",\n",
    "    # model=\"ollama/gemma3:latest\",\n",
    "    model=\"ollama/gemma3n:latest\",\n",
    "    base_url=OLLAMA_API_BASE\n",
    ")"
   ]
  },
  {
   "cell_type": "markdown",
   "id": "eb6a242a",
   "metadata": {},
   "source": [
    "## Verify LLM Configuration"
   ]
  },
  {
   "cell_type": "markdown",
   "id": "a76cfd69",
   "metadata": {},
   "source": [
    "### Universal LLM Connection Test"
   ]
  },
  {
   "cell_type": "markdown",
   "id": "f80d3537",
   "metadata": {},
   "source": [
    "#### Universal LLM Connection Testing Function\n",
    "\n",
    "This comprehensive function validates your LLM configuration across multiple providers:\n",
    "\n",
    "- **Configuration Analysis**: Inspects LLM settings (model, base URL, API key status)\n",
    "- **Provider Detection**: Automatically identifies the LLM provider (OpenAI, Ollama, etc.)\n",
    "- **Connection Testing**: Validates server availability and model accessibility\n",
    "- **Functionality Test**: Performs an actual LLM call to ensure everything works\n",
    "- **Troubleshooting**: Provides specific error messages and resolution tips\n",
    "\n",
    "🔧 **Purpose**: Prevents issues downstream by validating the entire LLM pipeline upfront."
   ]
  },
  {
   "cell_type": "code",
   "execution_count": null,
   "id": "c15858ed",
   "metadata": {},
   "outputs": [],
   "source": [
    "import requests\n",
    "import os\n",
    "\n",
    "def test_llm_connection():\n",
    "    \"\"\"Test LLM connection regardless of provider\"\"\"\n",
    "    \n",
    "    print(\"=== LLM Configuration Analysis ===\")\n",
    "    \n",
    "    # Analyze LLM configuration\n",
    "    model_name = getattr(llm, 'model', 'Unknown')\n",
    "    base_url = getattr(llm, 'base_url', None)\n",
    "    api_key_set = bool(getattr(llm, 'api_key', None))\n",
    "    \n",
    "    print(f\"Model: {model_name}\")\n",
    "    print(f\"Base URL: {base_url if base_url else 'Default (provider-specific)'}\")\n",
    "    print(f\"API Key Set: {'Yes' if api_key_set else 'No'}\")\n",
    "    \n",
    "    # Determine provider type\n",
    "    provider = \"unknown\"\n",
    "    if \"ollama\" in model_name.lower():\n",
    "        provider = \"ollama\"\n",
    "    elif \"gpt\" in model_name.lower() or \"openai\" in model_name.lower():\n",
    "        provider = \"openai\"\n",
    "    elif \"claude\" in model_name.lower() or \"anthropic\" in model_name.lower():\n",
    "        provider = \"anthropic\"\n",
    "    elif \"gemini\" in model_name.lower() or \"google\" in model_name.lower():\n",
    "        provider = \"google\"\n",
    "    \n",
    "    print(f\"Detected Provider: {provider}\")\n",
    "    \n",
    "    # Provider-specific connection tests\n",
    "    print(f\"\\n=== {provider.title()} Connection Test ===\")\n",
    "    \n",
    "    if provider == \"ollama\" and base_url:\n",
    "        try:\n",
    "            # Test Ollama server availability\n",
    "            test_url = f\"{base_url}/api/tags\"\n",
    "            response = requests.get(test_url, timeout=5)\n",
    "            print(f\"Ollama Server Status: {response.status_code}\")\n",
    "            if response.status_code == 200:\n",
    "                models = response.json().get('models', [])\n",
    "                print(f\"Available Models: {len(models)} found\")\n",
    "                # Check if our specific model is available\n",
    "                model_available = any(model_name.replace('ollama/', '') in str(model) for model in models)\n",
    "                print(f\"Target Model Available: {'Yes' if model_available else 'No'}\")\n",
    "            else:\n",
    "                print(f\"Ollama server responded with status: {response.status_code}\")\n",
    "        except Exception as e:\n",
    "            print(f\"❌ Ollama server connection failed: {e}\")\n",
    "    \n",
    "    elif provider == \"openai\":\n",
    "        print(\"OpenAI connection test (API key validation happens during LLM call)\")\n",
    "        api_key_env = os.getenv('OPENAI_API_KEY')\n",
    "        print(f\"OPENAI_API_KEY environment variable: {'Set' if api_key_env else 'Not set'}\")\n",
    "    \n",
    "    elif provider == \"anthropic\":\n",
    "        print(\"Anthropic connection test\")\n",
    "        api_key_env = os.getenv('ANTHROPIC_API_KEY')\n",
    "        print(f\"ANTHROPIC_API_KEY environment variable: {'Set' if api_key_env else 'Not set'}\")\n",
    "    \n",
    "    elif provider == \"google\":\n",
    "        print(\"Google AI connection test\")\n",
    "        api_key_env = os.getenv('GOOGLE_API_KEY')\n",
    "        print(f\"GOOGLE_API_KEY environment variable: {'Set' if api_key_env else 'Not set'}\")\n",
    "    \n",
    "    else:\n",
    "        print(\"Generic provider - will test with LLM call only\")\n",
    "    \n",
    "    # Universal LLM functionality test\n",
    "    print(f\"\\n=== LLM Functionality Test ===\")\n",
    "    try:\n",
    "        test_response = llm.call([{\"role\": \"user\", \"content\": \"Respond with exactly: 'Test successful'\"}])\n",
    "        print(\"✅ LLM call successful!\")\n",
    "        print(f\"Response type: {type(test_response)}\")\n",
    "        \n",
    "        # Try to extract response content\n",
    "        if hasattr(test_response, 'content'):\n",
    "            print(f\"Response content: {test_response.content[:100]}...\")\n",
    "        elif isinstance(test_response, str):\n",
    "            print(f\"Response: {test_response[:100]}...\")\n",
    "        else:\n",
    "            print(f\"Response: {str(test_response)[:100]}...\")\n",
    "            \n",
    "    except Exception as e:\n",
    "        print(f\"❌ LLM call failed: {e}\")\n",
    "        print(f\"Error type: {type(e).__name__}\")\n",
    "        \n",
    "        # Provide specific troubleshooting tips based on error\n",
    "        error_str = str(e).lower()\n",
    "        if \"connection\" in error_str or \"timeout\" in error_str:\n",
    "            print(\"💡 Tip: Check network connection and base_url configuration\")\n",
    "        elif \"api_key\" in error_str or \"authentication\" in error_str or \"unauthorized\" in error_str:\n",
    "            print(\"💡 Tip: Check API key configuration and permissions\")\n",
    "        elif \"model\" in error_str or \"not found\" in error_str:\n",
    "            print(\"💡 Tip: Verify model name and availability\")\n",
    "\n",
    "# Run the comprehensive test\n",
    "test_llm_connection()"
   ]
  },
  {
   "cell_type": "markdown",
   "id": "0f4fc76c",
   "metadata": {},
   "source": [
    "### Environment Variables Check for All LLM Providers"
   ]
  },
  {
   "cell_type": "markdown",
   "id": "bb1cbf6d",
   "metadata": {},
   "source": [
    "#### Environment Variables Audit Function\n",
    "\n",
    "This function performs a comprehensive audit of API keys and environment variables for all major LLM providers:\n",
    "\n",
    "- **Multi-Provider Support**: Checks for OpenAI, Anthropic, Google, Cohere, Hugging Face, Ollama, Azure, AWS, and more\n",
    "- **Status Reporting**: Shows which API keys are configured and which are missing\n",
    "- **Provider Discovery**: Identifies which LLM services you have access to\n",
    "- **Security Check**: Verifies environment variable setup without exposing actual key values\n",
    "\n",
    "📋 **Benefit**: Helps you understand your available LLM options and identify missing configurations."
   ]
  },
  {
   "cell_type": "code",
   "execution_count": null,
   "id": "21dee670",
   "metadata": {},
   "outputs": [],
   "source": [
    "def check_environment_variables():\n",
    "    \"\"\"Check environment variables for all major LLM providers\"\"\"\n",
    "    \n",
    "    print(\"=== Environment Variables Status ===\")\n",
    "    \n",
    "    # Common LLM provider environment variables\n",
    "    env_vars = {\n",
    "        \"OpenAI\": [\"OPENAI_API_KEY\", \"OPENAI_BASE_URL\"],\n",
    "        \"Anthropic\": [\"ANTHROPIC_API_KEY\"],\n",
    "        \"Google\": [\"GOOGLE_API_KEY\", \"GOOGLE_APPLICATION_CREDENTIALS\"],\n",
    "        \"Cohere\": [\"COHERE_API_KEY\"],\n",
    "        \"Hugging Face\": [\"HUGGINGFACE_API_KEY\", \"HF_TOKEN\"],\n",
    "        \"Ollama\": [\"OLLAMA_API_BASE\", \"OLLAMA_HOST\"],\n",
    "        \"Azure OpenAI\": [\"AZURE_OPENAI_API_KEY\", \"AZURE_OPENAI_ENDPOINT\"],\n",
    "        \"AWS Bedrock\": [\"AWS_ACCESS_KEY_ID\", \"AWS_SECRET_ACCESS_KEY\", \"AWS_REGION\"],\n",
    "        \"Together AI\": [\"TOGETHER_API_KEY\"],\n",
    "        \"Replicate\": [\"REPLICATE_API_TOKEN\"],\n",
    "        \"Perplexity\": [\"PERPLEXITYAI_API_KEY\"],\n",
    "        \"Groq\": [\"GROQ_API_KEY\"]\n",
    "    }\n",
    "    \n",
    "    found_providers = []\n",
    "    \n",
    "    for provider, vars_list in env_vars.items():\n",
    "        provider_vars = {}\n",
    "        has_any_var = False\n",
    "        \n",
    "        for var in vars_list:\n",
    "            value = os.getenv(var)\n",
    "            if value:\n",
    "                provider_vars[var] = \"✅ Set\"\n",
    "                has_any_var = True\n",
    "            else:\n",
    "                provider_vars[var] = \"❌ Not set\"\n",
    "        \n",
    "        if has_any_var:\n",
    "            found_providers.append(provider)\n",
    "            print(f\"\\n{provider}:\")\n",
    "            for var, status in provider_vars.items():\n",
    "                print(f\"  {var}: {status}\")\n",
    "    \n",
    "    if not found_providers:\n",
    "        print(\"No LLM provider environment variables found.\")\n",
    "        print(\"Make sure to set the appropriate API keys for your chosen provider.\")\n",
    "    else:\n",
    "        print(f\"\\nConfigured providers: {', '.join(found_providers)}\")\n",
    "\n",
    "# Run environment check\n",
    "check_environment_variables()"
   ]
  },
  {
   "cell_type": "markdown",
   "id": "b961b762",
   "metadata": {},
   "source": [
    "## Define the input fields the tool expects using Pydantic"
   ]
  },
  {
   "cell_type": "markdown",
   "id": "16c3dc8b",
   "metadata": {},
   "source": [
    "### Define Input Schema with Pydantic\n",
    "\n",
    "This code creates a structured input schema for our custom currency converter tool using Pydantic:\n",
    "\n",
    "- **Type Safety**: Ensures `amount` is always a float and currencies are strings\n",
    "- **Field Validation**: Pydantic automatically validates input types and required fields\n",
    "- **Documentation**: Field descriptions help the AI agent understand what each parameter represents\n",
    "- **Error Prevention**: Invalid inputs are caught before reaching the tool's execution logic\n",
    "\n",
    "🎯 **Purpose**: Provides a clear contract for what data the tool expects, preventing runtime errors and improving AI agent reliability."
   ]
  },
  {
   "cell_type": "code",
   "execution_count": null,
   "id": "5c05b00d",
   "metadata": {},
   "outputs": [],
   "source": [
    "class CurrencyConverterInput(BaseModel):\n",
    "    \"\"\"Input schema for CurrencyConverterTool.\"\"\"\n",
    "    amount: float = Field(..., description=\"The amount to convert.\")\n",
    "    from_currency: str = Field(..., description=\"The source currency code (e.g., 'USD').\")\n",
    "    to_currency: str = Field(..., description=\"The target currency code (e.g., 'EUR').\")\n"
   ]
  },
  {
   "cell_type": "markdown",
   "id": "27effbc0",
   "metadata": {},
   "source": [
    "## Define the Currency Converter Tool"
   ]
  },
  {
   "cell_type": "markdown",
   "id": "8afacfd2",
   "metadata": {},
   "source": [
    "### Custom Currency Converter Tool Implementation\n",
    "\n",
    "This code defines a complete custom tool by extending CrewAI's `BaseTool` class. Here's how each component works:\n",
    "\n",
    "#### **Class Attributes (Tool Metadata)**:\n",
    "- **`name`**: Human-readable tool identifier shown to AI agents\n",
    "- **`description`**: Explains the tool's purpose to help agents decide when to use it\n",
    "- **`args_schema`**: Links to our Pydantic schema for input validation\n",
    "- **`api_key`**: Securely retrieves the Exchange Rate API key from environment variables\n",
    "\n",
    "#### **The `_run` Method - The Heart of the Tool** 🔧\n",
    "\n",
    "The `_run` method is **absolutely critical** - it's the actual business logic that executes when an AI agent calls this tool:\n",
    "\n",
    "1. **API Request**: Makes HTTP call to `exchangerate-api.com` with the source currency\n",
    "2. **Error Handling**: Checks for API failures and returns helpful error messages\n",
    "3. **Data Validation**: Verifies the target currency exists in the response\n",
    "4. **Calculation**: Performs the currency conversion using real-time exchange rates\n",
    "5. **Formatted Response**: Returns a human-readable result string\n",
    "\n",
    "#### **Why `_run` is Essential**:\n",
    "- **Execution Entry Point**: This is the ONLY method the CrewAI framework calls when an agent uses the tool\n",
    "- **Type-Safe Inputs**: Parameters are automatically validated against our Pydantic schema before reaching `_run`\n",
    "- **Return Format**: Must return a string that the AI agent can understand and use in its response\n",
    "- **Error Resilience**: Should handle all possible failure scenarios gracefully\n",
    "\n",
    "#### **Integration with CrewAI**:\n",
    "When an AI agent needs currency conversion, CrewAI automatically:\n",
    "1. Validates inputs against `CurrencyConverterInput` schema\n",
    "2. Calls `_run` with the validated parameters\n",
    "3. Provides the returned string to the agent for further processing\n",
    "\n",
    "💡 **Key Insight**: The `_run` method transforms external API data into actionable information that AI agents can reason about and present to users."
   ]
  },
  {
   "cell_type": "code",
   "execution_count": null,
   "id": "47725bef",
   "metadata": {},
   "outputs": [],
   "source": [
    "class CurrencyConverterTool(BaseTool):\n",
    "    name: str = \"Currency Converter Tool\"\n",
    "    description: str = \"Converts an amount from one currency to another.\"\n",
    "    args_schema: Type[BaseModel] = CurrencyConverterInput\n",
    "    api_key: str = os.getenv(\"EXCHANGE_RATE_API_KEY\")\n",
    "    \n",
    "    def _run(self, amount: float, from_currency: str, to_currency: str) -> str:\n",
    "        url = f\"https://v6.exchangerate-api.com/v6/{self.api_key}/latest/{from_currency}\"\n",
    "        response = requests.get(url)\n",
    "\n",
    "        if response.status_code != 200:\n",
    "            return \"Failed to fetch exchange rates.\"\n",
    "\n",
    "        data = response.json()\n",
    "        if \"conversion_rates\" not in data or to_currency not in data[\"conversion_rates\"]:\n",
    "            return f\"Invalid currency code: {to_currency}\"\n",
    "\n",
    "        rate = data[\"conversion_rates\"][to_currency]\n",
    "        converted_amount = amount * rate\n",
    "        return f\"{amount} {from_currency} is equivalent to {converted_amount:.2f} {to_currency}.\"\n"
   ]
  },
  {
   "cell_type": "markdown",
   "id": "585f6539",
   "metadata": {},
   "source": [
    "## Define Currency Analyst Agent"
   ]
  },
  {
   "cell_type": "markdown",
   "id": "a2919c70",
   "metadata": {},
   "source": [
    "### Create Specialized Currency Analyst Agent\n",
    "\n",
    "This code defines an AI agent with domain expertise in currency analysis:\n",
    "\n",
    "- **Role Definition**: Establishes the agent as a \"Currency Analyst\" with specific responsibilities\n",
    "- **Goal Setting**: Defines the agent's primary objective (real-time conversions and financial insights)\n",
    "- **Backstory**: Provides context and expertise that influences the agent's responses\n",
    "- **Tool Integration**: Attaches our custom `CurrencyConverterTool` to give the agent access to real-time exchange rates\n",
    "- **Verbose Mode**: Enables detailed logging to see the agent's reasoning process\n",
    "\n",
    "🤖 **Agent Capabilities**: With the custom tool attached, this agent can now perform live currency conversions and provide context-aware financial advice."
   ]
  },
  {
   "cell_type": "code",
   "execution_count": null,
   "id": "75f34067",
   "metadata": {},
   "outputs": [],
   "source": [
    "from crewai import Agent\n",
    "\n",
    "currency_analyst = Agent(\n",
    "    role=\"Currency Analyst\",\n",
    "    goal=\"Provide real-time currency conversions and financial insights.\",\n",
    "    backstory=(\n",
    "        \"You are a finance expert with deep knowledge of global exchange rates.\"\n",
    "        \"You help users with currency conversion and financial decision-making.\"\n",
    "    ),\n",
    "    tools=[CurrencyConverterTool()],  # Attach our custom tool\n",
    "    verbose=True\n",
    ")"
   ]
  },
  {
   "cell_type": "markdown",
   "id": "105ccffa",
   "metadata": {},
   "source": [
    "## Define Currency Conversion Task"
   ]
  },
  {
   "cell_type": "markdown",
   "id": "747b0e1c",
   "metadata": {},
   "source": [
    "### Define Currency Conversion Task\n",
    "\n",
    "This code creates a specific task that instructs the agent on how to use the currency converter tool:\n",
    "\n",
    "- **Task Description**: Provides clear instructions with parameter placeholders (`{amount}`, `{from_currency}`, `{to_currency}`)\n",
    "- **Expected Output**: Defines what kind of response format is desired from the agent\n",
    "- **Agent Assignment**: Links this task to our specialized currency analyst agent\n",
    "- **Dynamic Parameters**: Uses template variables that will be filled in when the crew executes\n",
    "\n",
    "📝 **Task Flow**: The agent will receive this task, use the currency converter tool to get real-time rates, and provide both the conversion result and relevant financial context."
   ]
  },
  {
   "cell_type": "code",
   "execution_count": null,
   "id": "955ebdd4",
   "metadata": {},
   "outputs": [],
   "source": [
    "from crewai import Task\n",
    "\n",
    "currency_conversion_task = Task(\n",
    "    description=(\n",
    "        \"Convert {amount} {from_currency} to {to_currency} \"\n",
    "        \"using real-time exchange rates.\"\n",
    "        \"Provide the equivalent amount and \"\n",
    "        \"explain any relevant financial context.\"\n",
    "    ),\n",
    "    expected_output=(\"A detailed response including the \"\n",
    "                     \"converted amount and financial insights.\"),\n",
    "    agent=currency_analyst\n",
    ")"
   ]
  },
  {
   "cell_type": "markdown",
   "id": "d1d459a8",
   "metadata": {},
   "source": [
    "## Define Currency Conversion Crew"
   ]
  },
  {
   "cell_type": "markdown",
   "id": "da254e9e",
   "metadata": {},
   "source": [
    "### Create and Execute Currency Conversion Crew\n",
    "\n",
    "This final code block brings everything together and executes the currency conversion workflow:\n",
    "\n",
    "#### **Crew Assembly**:\n",
    "- **Agents List**: Includes our currency analyst agent with the attached custom tool\n",
    "- **Tasks List**: Contains the currency conversion task with clear instructions\n",
    "- **Process Type**: Sequential processing ensures tasks execute in order\n",
    "\n",
    "#### **Crew Execution**:\n",
    "- **`kickoff()`**: Starts the crew with specific input parameters (100 USD to EUR)\n",
    "- **Input Mapping**: The template variables in the task description are filled with actual values\n",
    "- **Tool Integration**: The agent automatically uses our custom currency converter tool to get real-time rates\n",
    "\n",
    "#### **Response Handling**:\n",
    "- **Raw Output**: Displays the agent's complete response including conversion results and financial insights\n",
    "- **Markdown Rendering**: Formats the output nicely in the Jupyter notebook\n",
    "\n",
    "🚀 **Complete Workflow**: This demonstrates the full pipeline from custom tool creation to agent execution with real-world API integration!"
   ]
  },
  {
   "cell_type": "code",
   "execution_count": null,
   "id": "002bbdf4",
   "metadata": {},
   "outputs": [],
   "source": [
    "from crewai import Crew, Process\n",
    "\n",
    "crew = Crew(\n",
    "    agents=[currency_analyst],\n",
    "    tasks=[currency_conversion_task],\n",
    "    process=Process.sequential\n",
    ")\n",
    "\n",
    "response = crew.kickoff(inputs={\"amount\": 100, \n",
    "                                \"from_currency\": \"USD\",\n",
    "                                \"to_currency\": \"EUR\"})\n",
    "\n",
    "# Print the response from the crew\n",
    "print(\"=== Crew Response ===\")\n",
    "from IPython.display import Markdown\n",
    "Markdown(response.raw)"
   ]
  }
 ],
 "metadata": {
  "kernelspec": {
   "display_name": "Python 3",
   "language": "python",
   "name": "python3"
  },
  "language_info": {
   "codemirror_mode": {
    "name": "ipython",
    "version": 3
   },
   "file_extension": ".py",
   "mimetype": "text/x-python",
   "name": "python",
   "nbconvert_exporter": "python",
   "pygments_lexer": "ipython3",
   "version": "3.11.12"
  }
 },
 "nbformat": 4,
 "nbformat_minor": 5
}
